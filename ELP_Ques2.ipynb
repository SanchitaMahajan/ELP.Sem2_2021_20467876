{
  "nbformat": 4,
  "nbformat_minor": 0,
  "metadata": {
    "colab": {
      "name": "ELP_Ques2.ipynb",
      "provenance": [],
      "authorship_tag": "ABX9TyMmBaxNbVJ/FR2DoiUY/91/",
      "include_colab_link": true
    },
    "kernelspec": {
      "name": "python3",
      "display_name": "Python 3"
    },
    "language_info": {
      "name": "python"
    }
  },
  "cells": [
    {
      "cell_type": "markdown",
      "metadata": {
        "id": "view-in-github",
        "colab_type": "text"
      },
      "source": [
        "<a href=\"https://colab.research.google.com/github/SanchitaMahajan/ELP.Sem2_2021_20467876/blob/main/ELP_Ques2.ipynb\" target=\"_parent\"><img src=\"https://colab.research.google.com/assets/colab-badge.svg\" alt=\"Open In Colab\"/></a>"
      ]
    },
    {
      "cell_type": "markdown",
      "metadata": {
        "id": "OK8U629C040h"
      },
      "source": [
        "# **Extended Learning Portfolio Ques 2:-**\n",
        "\n",
        "### ***By Sanchita Mahajan***\n",
        "\n",
        "### ***20467876***"
      ]
    },
    {
      "cell_type": "markdown",
      "metadata": {
        "id": "Ydhd2LaaC9AZ"
      },
      "source": [
        "# **This is a function which is used to get the URL (search_term) :-**\n",
        "***1. The User has to input an item in place of search_term..***\n",
        "\n",
        "***2. The function will then return the Webpage of the search_term for the item provided by the user.***\n",
        "\n",
        "\n",
        "\n",
        "\n",
        "---\n",
        "\n",
        "\n",
        "\n",
        "\n",
        "# **WORKING:-**\n",
        "\n",
        "Let's understand the following function using the Amazon URL example...\n",
        "\n",
        "**url** = 'https://www.amazon.com.au'\n",
        "\n",
        "\n",
        "  **template(ultrawide monitor)** =  'https://www.amazon.com.au/s?k=ultrawide+monitor&ref=nb_sb_noss_2'\n",
        "\n",
        "\n",
        "\n",
        "\n",
        "\n",
        "\n",
        "## ***After careful analysis we realised that, when we create a function to get url for Search_term:-***\n",
        "\n",
        "---\n",
        "\n",
        "\n",
        "\n",
        "We get, **url** = 'https://www.amazon.com.au/s?k=ultrawide monitor&ref=nb_sb_noss_2'\n",
        "\n",
        "\n",
        "\n",
        "---\n",
        "\n",
        "\n",
        "***But in the actual URL, We need '+' between ultrawide and monitor***\n",
        "\n",
        "   `#replace spaces with a '+' sign`\n",
        "\n",
        "##   **So, we will replace '  ' (space) with a '+' sign !**\n",
        "\n",
        "\n",
        "\n",
        "\n",
        "---\n",
        "\n",
        "\n",
        "\n",
        "\n",
        "###***So,the result URL will be***:-\n",
        " 'https://www.amazon.com.au/s?k=ultrawide+monitor&ref=nb_sb_noss_2'\n",
        "\n",
        "\n"
      ]
    },
    {
      "cell_type": "code",
      "metadata": {
        "id": "Yh8skwYs0pHf"
      },
      "source": [
        "''' This function is used to get_url for\n",
        "    search_term & template '''\n",
        "\n",
        "def get_url(search_term, template):\n",
        "#replace spaces with a '+' sign  \n",
        " search_term = search_term.replace(' ', '+')\n",
        " \n",
        " url = template.format(search_term)\n",
        " url += '&page={}'\n",
        " return url"
      ],
      "execution_count": 2,
      "outputs": []
    },
    {
      "cell_type": "code",
      "metadata": {
        "id": "LA3M3BpEBN0X"
      },
      "source": [
        ""
      ],
      "execution_count": null,
      "outputs": []
    }
  ]
}