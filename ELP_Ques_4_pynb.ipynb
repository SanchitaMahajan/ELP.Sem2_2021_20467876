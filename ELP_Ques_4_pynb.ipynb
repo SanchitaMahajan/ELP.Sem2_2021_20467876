{
  "nbformat": 4,
  "nbformat_minor": 0,
  "metadata": {
    "colab": {
      "name": "ELP Ques 4.pynb",
      "provenance": [],
      "authorship_tag": "ABX9TyNIj+LsH9TKsk4IFmpoDlze",
      "include_colab_link": true
    },
    "kernelspec": {
      "name": "python3",
      "display_name": "Python 3"
    },
    "language_info": {
      "name": "python"
    }
  },
  "cells": [
    {
      "cell_type": "markdown",
      "metadata": {
        "id": "view-in-github",
        "colab_type": "text"
      },
      "source": [
        "<a href=\"https://colab.research.google.com/github/SanchitaMahajan/ELP.Sem2_2021_20467876/blob/main/ELP_Ques_4_pynb.ipynb\" target=\"_parent\"><img src=\"https://colab.research.google.com/assets/colab-badge.svg\" alt=\"Open In Colab\"/></a>"
      ]
    },
    {
      "cell_type": "markdown",
      "metadata": {
        "id": "nRui6hJasB4U"
      },
      "source": [
        "# **Extended Learning Portfolio Ques 4..**\n",
        "\n",
        "**By Sanchita Mahajan**\n",
        "\n",
        "**20467876**\n",
        "\n",
        "Write a program the reads in sales.csv and calculates the maximum, minimum and average\n",
        "profit for each country in the Australia and Oceania region. For each country in the\n",
        "Australia and Oceania region the plot their total profit. (Hint: read the CSV into a Pandas\n",
        "dataframe, create a new dataframe for the region, and use the new dataframe for the\n",
        "calculations and bar chart)\n"
      ]
    },
    {
      "cell_type": "markdown",
      "metadata": {
        "id": "-Az1l_6XvSfi"
      },
      "source": [
        "# **First Step is to Load the following packages: -**\n",
        "### ***1***. ***CSV***\n",
        "\n",
        "### ***2***. ***pandas as pd***\n",
        "\n",
        "*Pandas help to easily read the CSV files and calculate the max, min, sum values...*\n",
        "\n",
        "---\n",
        "\n",
        "\n",
        "\n",
        "## ***Note : Please upload the sales.csv file from the attached file!*** "
      ]
    },
    {
      "cell_type": "code",
      "metadata": {
        "id": "0cHKJPHvU2sK"
      },
      "source": [
        "# Load packages\n",
        "import csv\n",
        "import pandas as pd"
      ],
      "execution_count": 1,
      "outputs": []
    },
    {
      "cell_type": "markdown",
      "metadata": {
        "id": "vU5AzKn_wOiy"
      },
      "source": [
        "## **Next Step involves using Pandas df (dataframe) to read sales csv file and further we will split the df based on the location of all the countries under 'Australia & Oceania region -**\n"
      ]
    },
    {
      "cell_type": "code",
      "metadata": {
        "id": "yN2-M9D_VMUM",
        "colab": {
          "base_uri": "https://localhost:8080/",
          "height": 594
        },
        "outputId": "6fb5e0f5-0619-469f-811e-c40ea0f5d4a7"
      },
      "source": [
        "''' Read the sales.csv file in pandas dataframe'''\n",
        "df = pd.read_csv('/content/sales.csv')\n",
        "\n",
        "# Split the df based on the location of the countries\n",
        "''' Split the dataframe of region from sales.csv by Location (loc) \n",
        "    where Region = ['Australia and Oceania'] '''\n",
        "\n",
        "region = df.loc[df['Region']== 'Australia and Oceania']\n",
        "Df_Region = pd.DataFrame(region)\n",
        "Df_Region"
      ],
      "execution_count": 3,
      "outputs": [
        {
          "output_type": "execute_result",
          "data": {
            "text/html": [
              "<div>\n",
              "<style scoped>\n",
              "    .dataframe tbody tr th:only-of-type {\n",
              "        vertical-align: middle;\n",
              "    }\n",
              "\n",
              "    .dataframe tbody tr th {\n",
              "        vertical-align: top;\n",
              "    }\n",
              "\n",
              "    .dataframe thead th {\n",
              "        text-align: right;\n",
              "    }\n",
              "</style>\n",
              "<table border=\"1\" class=\"dataframe\">\n",
              "  <thead>\n",
              "    <tr style=\"text-align: right;\">\n",
              "      <th></th>\n",
              "      <th>Region</th>\n",
              "      <th>Country</th>\n",
              "      <th>Item Type</th>\n",
              "      <th>Sales Channel</th>\n",
              "      <th>Order Priority</th>\n",
              "      <th>Order Date</th>\n",
              "      <th>Order ID</th>\n",
              "      <th>Ship Date</th>\n",
              "      <th>Units Sold</th>\n",
              "      <th>Unit Price</th>\n",
              "      <th>Unit Cost</th>\n",
              "      <th>Total Revenue</th>\n",
              "      <th>Total Cost</th>\n",
              "      <th>Total Profit</th>\n",
              "    </tr>\n",
              "  </thead>\n",
              "  <tbody>\n",
              "    <tr>\n",
              "      <th>0</th>\n",
              "      <td>Australia and Oceania</td>\n",
              "      <td>Tuvalu</td>\n",
              "      <td>Baby Food</td>\n",
              "      <td>Offline</td>\n",
              "      <td>H</td>\n",
              "      <td>5/28/2010</td>\n",
              "      <td>669165933</td>\n",
              "      <td>6/27/2010</td>\n",
              "      <td>9925</td>\n",
              "      <td>255.28</td>\n",
              "      <td>159.42</td>\n",
              "      <td>2533654.00</td>\n",
              "      <td>1582243.50</td>\n",
              "      <td>951410.50</td>\n",
              "    </tr>\n",
              "    <tr>\n",
              "      <th>5</th>\n",
              "      <td>Australia and Oceania</td>\n",
              "      <td>Solomon Islands</td>\n",
              "      <td>Baby Food</td>\n",
              "      <td>Online</td>\n",
              "      <td>C</td>\n",
              "      <td>2/4/2015</td>\n",
              "      <td>547995746</td>\n",
              "      <td>2/21/2015</td>\n",
              "      <td>2974</td>\n",
              "      <td>255.28</td>\n",
              "      <td>159.42</td>\n",
              "      <td>759202.72</td>\n",
              "      <td>474115.08</td>\n",
              "      <td>285087.64</td>\n",
              "    </tr>\n",
              "    <tr>\n",
              "      <th>19</th>\n",
              "      <td>Australia and Oceania</td>\n",
              "      <td>East Timor</td>\n",
              "      <td>Meat</td>\n",
              "      <td>Online</td>\n",
              "      <td>L</td>\n",
              "      <td>7/31/2012</td>\n",
              "      <td>322067916</td>\n",
              "      <td>9/11/2012</td>\n",
              "      <td>5908</td>\n",
              "      <td>421.89</td>\n",
              "      <td>364.69</td>\n",
              "      <td>2492526.12</td>\n",
              "      <td>2154588.52</td>\n",
              "      <td>337937.60</td>\n",
              "    </tr>\n",
              "    <tr>\n",
              "      <th>23</th>\n",
              "      <td>Australia and Oceania</td>\n",
              "      <td>New Zealand</td>\n",
              "      <td>Fruits</td>\n",
              "      <td>Online</td>\n",
              "      <td>H</td>\n",
              "      <td>9/8/2014</td>\n",
              "      <td>142278373</td>\n",
              "      <td>10/4/2014</td>\n",
              "      <td>2187</td>\n",
              "      <td>9.33</td>\n",
              "      <td>6.92</td>\n",
              "      <td>20404.71</td>\n",
              "      <td>15134.04</td>\n",
              "      <td>5270.67</td>\n",
              "    </tr>\n",
              "    <tr>\n",
              "      <th>26</th>\n",
              "      <td>Australia and Oceania</td>\n",
              "      <td>Kiribati</td>\n",
              "      <td>Fruits</td>\n",
              "      <td>Online</td>\n",
              "      <td>M</td>\n",
              "      <td>10/13/2014</td>\n",
              "      <td>347140347</td>\n",
              "      <td>11/10/2014</td>\n",
              "      <td>5398</td>\n",
              "      <td>9.33</td>\n",
              "      <td>6.92</td>\n",
              "      <td>50363.34</td>\n",
              "      <td>37354.16</td>\n",
              "      <td>13009.18</td>\n",
              "    </tr>\n",
              "    <tr>\n",
              "      <th>32</th>\n",
              "      <td>Australia and Oceania</td>\n",
              "      <td>Australia</td>\n",
              "      <td>Office Supplies</td>\n",
              "      <td>Online</td>\n",
              "      <td>C</td>\n",
              "      <td>10/27/2015</td>\n",
              "      <td>158535134</td>\n",
              "      <td>11/25/2015</td>\n",
              "      <td>2924</td>\n",
              "      <td>651.21</td>\n",
              "      <td>524.96</td>\n",
              "      <td>1904138.04</td>\n",
              "      <td>1534983.04</td>\n",
              "      <td>369155.00</td>\n",
              "    </tr>\n",
              "    <tr>\n",
              "      <th>56</th>\n",
              "      <td>Australia and Oceania</td>\n",
              "      <td>Fiji</td>\n",
              "      <td>Clothes</td>\n",
              "      <td>Offline</td>\n",
              "      <td>C</td>\n",
              "      <td>6/30/2010</td>\n",
              "      <td>647876489</td>\n",
              "      <td>8/1/2010</td>\n",
              "      <td>9905</td>\n",
              "      <td>109.28</td>\n",
              "      <td>35.84</td>\n",
              "      <td>1082418.40</td>\n",
              "      <td>354995.20</td>\n",
              "      <td>727423.20</td>\n",
              "    </tr>\n",
              "    <tr>\n",
              "      <th>60</th>\n",
              "      <td>Australia and Oceania</td>\n",
              "      <td>Australia</td>\n",
              "      <td>Cereal</td>\n",
              "      <td>Offline</td>\n",
              "      <td>H</td>\n",
              "      <td>6/9/2013</td>\n",
              "      <td>450563752</td>\n",
              "      <td>7/2/2013</td>\n",
              "      <td>682</td>\n",
              "      <td>205.70</td>\n",
              "      <td>117.11</td>\n",
              "      <td>140287.40</td>\n",
              "      <td>79869.02</td>\n",
              "      <td>60418.38</td>\n",
              "    </tr>\n",
              "    <tr>\n",
              "      <th>76</th>\n",
              "      <td>Australia and Oceania</td>\n",
              "      <td>Federated States of Micronesia</td>\n",
              "      <td>Beverages</td>\n",
              "      <td>Online</td>\n",
              "      <td>C</td>\n",
              "      <td>10/28/2014</td>\n",
              "      <td>217221009</td>\n",
              "      <td>11/15/2014</td>\n",
              "      <td>9379</td>\n",
              "      <td>47.45</td>\n",
              "      <td>31.79</td>\n",
              "      <td>445033.55</td>\n",
              "      <td>298158.41</td>\n",
              "      <td>146875.14</td>\n",
              "    </tr>\n",
              "    <tr>\n",
              "      <th>79</th>\n",
              "      <td>Australia and Oceania</td>\n",
              "      <td>Samoa</td>\n",
              "      <td>Cosmetics</td>\n",
              "      <td>Online</td>\n",
              "      <td>H</td>\n",
              "      <td>7/20/2013</td>\n",
              "      <td>670854651</td>\n",
              "      <td>8/7/2013</td>\n",
              "      <td>9654</td>\n",
              "      <td>437.20</td>\n",
              "      <td>263.33</td>\n",
              "      <td>4220728.80</td>\n",
              "      <td>2542187.82</td>\n",
              "      <td>1678540.98</td>\n",
              "    </tr>\n",
              "    <tr>\n",
              "      <th>91</th>\n",
              "      <td>Australia and Oceania</td>\n",
              "      <td>Australia</td>\n",
              "      <td>Beverages</td>\n",
              "      <td>Offline</td>\n",
              "      <td>H</td>\n",
              "      <td>7/7/2014</td>\n",
              "      <td>240470397</td>\n",
              "      <td>7/11/2014</td>\n",
              "      <td>9389</td>\n",
              "      <td>47.45</td>\n",
              "      <td>31.79</td>\n",
              "      <td>445508.05</td>\n",
              "      <td>298476.31</td>\n",
              "      <td>147031.74</td>\n",
              "    </tr>\n",
              "  </tbody>\n",
              "</table>\n",
              "</div>"
            ],
            "text/plain": [
              "                   Region  ... Total Profit\n",
              "0   Australia and Oceania  ...    951410.50\n",
              "5   Australia and Oceania  ...    285087.64\n",
              "19  Australia and Oceania  ...    337937.60\n",
              "23  Australia and Oceania  ...      5270.67\n",
              "26  Australia and Oceania  ...     13009.18\n",
              "32  Australia and Oceania  ...    369155.00\n",
              "56  Australia and Oceania  ...    727423.20\n",
              "60  Australia and Oceania  ...     60418.38\n",
              "76  Australia and Oceania  ...    146875.14\n",
              "79  Australia and Oceania  ...   1678540.98\n",
              "91  Australia and Oceania  ...    147031.74\n",
              "\n",
              "[11 rows x 14 columns]"
            ]
          },
          "metadata": {},
          "execution_count": 3
        }
      ]
    },
    {
      "cell_type": "markdown",
      "metadata": {
        "id": "W1H173gfxROg"
      },
      "source": [
        "## **Calculate the Max Value of Total Profit: -** \n",
        "\n",
        "### ***Pandas has an module that helps in calculating the Max value easily, We just have to use: -*** \n",
        "\n",
        "\n",
        "```\n",
        "Df_Region['Total Profit'].max()\n",
        "```\n",
        "\n"
      ]
    },
    {
      "cell_type": "code",
      "metadata": {
        "colab": {
          "base_uri": "https://localhost:8080/"
        },
        "id": "ZNr2DZgxv4jn",
        "outputId": "85800b4c-4ede-413a-fe47-861178957a06"
      },
      "source": [
        "''' This function of pandas df will help to \n",
        "    calculate the Maximum Total Profit value'''\n",
        "    \n",
        "Max_Profit =Df_Region['Total Profit'].max()\n",
        "print ('Max Total Profit: ' + str(Max_Profit))"
      ],
      "execution_count": 4,
      "outputs": [
        {
          "output_type": "stream",
          "name": "stdout",
          "text": [
            "Max Total Profit: 1678540.98\n"
          ]
        }
      ]
    },
    {
      "cell_type": "markdown",
      "metadata": {
        "id": "0IrmKOXzyHyS"
      },
      "source": [
        "## **Calculate the Min Value of Total Profit: -** \n",
        "\n",
        "### ***Pandas has an module that helps in calculating the Min value easily, We just have to use: -*** \n",
        "\n",
        "\n",
        "```\n",
        "Df_Region['Total Profit'].min()\n",
        "```"
      ]
    },
    {
      "cell_type": "code",
      "metadata": {
        "colab": {
          "base_uri": "https://localhost:8080/"
        },
        "id": "wv40M3Glxfy2",
        "outputId": "ef1bc63b-665f-459c-be05-0fd5b9400d3b"
      },
      "source": [
        "''' This function of pandas df will help to \n",
        "    calculate the Minimum Total Profit value'''\n",
        "    \n",
        "Min_Profit = Df_Region['Total Profit'].min()\n",
        "print ('Minimum Total Profit: ' + str(Min_Profit))"
      ],
      "execution_count": 5,
      "outputs": [
        {
          "output_type": "stream",
          "name": "stdout",
          "text": [
            "Minimum Total Profit: 5270.67\n"
          ]
        }
      ]
    },
    {
      "cell_type": "markdown",
      "metadata": {
        "id": "2uleqZczyQMQ"
      },
      "source": [
        "## **Calculate the Average Value of Total Profit: -** \n",
        "\n",
        "### ***Pandas has an module that helps in calculating the Sum of all total profits easily, We just have to use: -*** \n",
        "\n",
        "\n",
        "```\n",
        "Average = Sum of Profits / No. of countries\n",
        "For sum, We use - Df_Region['Total Profit'].sum()\n",
        "For No, We use- len(( Df_Region['Total Profit'])\n",
        "\n",
        "For Average, Df_Region['Total Profit'].sum()/ len(( Df_Region['Total Profit'])\n",
        "```"
      ]
    },
    {
      "cell_type": "code",
      "metadata": {
        "colab": {
          "base_uri": "https://localhost:8080/"
        },
        "id": "ClT1Rz41x4rm",
        "outputId": "de1d13a0-0835-49b8-d588-149372f2dfd3"
      },
      "source": [
        "''' This function will help to calculate the Average of Total Profit'''\n",
        "\n",
        "Sum_of_profits = Df_Region['Total Profit'].sum()\n",
        "Average = Sum_of_profits/ len( Df_Region['Total Profit'])\n",
        "print('Average of Profits: ',Average)"
      ],
      "execution_count": 6,
      "outputs": [
        {
          "output_type": "stream",
          "name": "stdout",
          "text": [
            "Average of Profits:  429287.27545454545\n"
          ]
        }
      ]
    },
    {
      "cell_type": "markdown",
      "metadata": {
        "id": "qMKI8tI5zES4"
      },
      "source": [
        "## **Plot Total Profit of all the countries in 'Australia & Oceania Region as a Bar Chart: -** \n",
        "\n",
        "---\n",
        "\n",
        "\n",
        "\n",
        "***Pandas has an option to represent df(dataframe) as bar chart!***\n",
        "\n",
        "---\n",
        "\n",
        "\n",
        "\n",
        "***We used the following function of pandas to represent data: -***\n",
        "\n",
        "`Df_Region.plot.bar(x = 'Country', y = 'Total Profit',title = 'Total Profit of Countries in Australia & Oceania Region')`"
      ]
    },
    {
      "cell_type": "code",
      "metadata": {
        "colab": {
          "base_uri": "https://localhost:8080/",
          "height": 457
        },
        "id": "s7LHboUEyROr",
        "outputId": "291cc16b-bba8-4b3f-a821-526292832b43"
      },
      "source": [
        "''' This function of pandas df will help to represent the Total Profit of all \n",
        "the countries in 'Australia & Oceania Region as a Bar Chart '''\n",
        "\n",
        "Df_Region.plot.bar(x = 'Country', y = 'Total Profit',title = 'Total Profit of Countries in Australia & Oceania Region')\n"
      ],
      "execution_count": 7,
      "outputs": [
        {
          "output_type": "execute_result",
          "data": {
            "text/plain": [
              "<matplotlib.axes._subplots.AxesSubplot at 0x7f19681e3190>"
            ]
          },
          "metadata": {},
          "execution_count": 7
        },
        {
          "output_type": "display_data",
          "data": {
            "image/png": "[encoded data removed]",
            "text/plain": [
              "<Figure size 432x288 with 1 Axes>"
            ]
          },
          "metadata": {
            "needs_background": "light"
          }
        }
      ]
    },
    {
      "cell_type": "code",
      "metadata": {
        "id": "S8FRB19dz9oO"
      },
      "source": [
        ""
      ],
      "execution_count": null,
      "outputs": []
    }
  ]
}