{
  "nbformat": 4,
  "nbformat_minor": 0,
  "metadata": {
    "colab": {
      "name": "ELP_Ques3.ipynb",
      "provenance": [],
      "authorship_tag": "ABX9TyPwbUiqyy+wBf/g+A7yHxzu",
      "include_colab_link": true
    },
    "kernelspec": {
      "name": "python3",
      "display_name": "Python 3"
    },
    "language_info": {
      "name": "python"
    }
  },
  "cells": [
    {
      "cell_type": "markdown",
      "metadata": {
        "id": "view-in-github",
        "colab_type": "text"
      },
      "source": [
        "<a href=\"https://colab.research.google.com/github/SanchitaMahajan/ELP.Sem2_2021_20467876/blob/main/ELP_Ques3.ipynb\" target=\"_parent\"><img src=\"https://colab.research.google.com/assets/colab-badge.svg\" alt=\"Open In Colab\"/></a>"
      ]
    },
    {
      "cell_type": "markdown",
      "metadata": {
        "id": "rg0pOZXfI_FZ"
      },
      "source": [
        "# **Extended Learning Portfolio Ques 3:-**\n",
        "\n",
        "### *There are a lot of Errors in the given function which are as follows:-*  \n",
        "\n",
        "\n",
        "```\n",
        "def efficiency(dist, gas)\n",
        " return dist/gas\n",
        "km = input (\"How far did your car travel? (In kilometers?) )\n",
        "liters = input (\"How much gas did you use? (In liters)\"\n",
        "MPG = efficiency(dist_traveled, Liters)\n",
        "print MPG\n",
        "```\n",
        "\n",
        "\n",
        "## **SYNTAX ERRORS**\n",
        "**1**. **Error 1:**\n",
        "   ***Indentation error. All the lines are not aligned properly***.\n",
        "\n",
        "**2**. **Error 2:** \n",
        "Don't use slash(/) as it is incorrect way to show variable in return statement. We should use commas to show variables in return statement.\n",
        "\n",
        "**actual syntax: ' return dist/gas'**\n",
        "\n",
        "**correct syntax: ' return dist,gas'**\n",
        "\n",
        "**3**. **Error 3:** \n",
        "***End of line error. Comma is missing in  input function of 'km' variable. We have to write the input statement in double inverted commas (\" \").*** \n",
        "\n",
        "**actual syntax: km = input (\"How far did your car travel? (In kilometers?) )**\n",
        "\n",
        "**correct syntax: km = input (\"How far did your car travel? (In kilometers?)\" )**\n",
        "\n",
        "**4**. **Error 4:**\n",
        "\n",
        "***Semi colon(:) is missing***.\n",
        "\n",
        "*actual syntax: def efficiency(dist, gas)*\n",
        "\n",
        "*correct syntax: def efficiency(dist, gas):*\n",
        "\n",
        "\n",
        "**5**. **Error 5:**\n",
        "Closing bracket is missing in input function of 'liters' variable. \n",
        "\n",
        "**actual syntax: liters = input (\"How much gas did you use? (In liters)\"**\n",
        "\n",
        "**correct syntax: liters = input (\"How much gas did you use? (In liters)\")**\n",
        "\n",
        "\n",
        "**6**. **Error 6:**\n",
        "*Brackets are missing in print statement*.\n",
        "\n",
        "**actual syntax: print MPG**\n",
        "\n",
        "**correct syntax: print (MPG)**\n",
        "\n",
        "\n",
        "# **LOGICAL ERROR**:\n",
        "\n",
        "***In the given function to calculate efficiency, We need to write a logical formula as well that will calculate MPG as (dist/gas) which is missing and will return dist, gas...***\n"
      ]
    },
    {
      "cell_type": "code",
      "metadata": {
        "id": "lEvAgNvnJAY-"
      },
      "source": [
        "''' Wrong function\n",
        "\n",
        "def efficiency(dist, gas)\n",
        " return dist/gas\n",
        "km = input (\"How far did your car travel? (In kilometers?) )\n",
        "liters = input (\"How much gas did you use? (In liters)\"\n",
        "MPG = efficiency(dist_traveled, Liters)\n",
        "print MPG '''"
      ],
      "execution_count": null,
      "outputs": []
    },
    {
      "cell_type": "code",
      "metadata": {
        "colab": {
          "base_uri": "https://localhost:8080/"
        },
        "id": "C6G4voLvK2nk",
        "outputId": "a9cc7d73-bd1a-47b6-b678-d6d944428ecd"
      },
      "source": [
        "def efficiency(dist, gas):\n",
        "  MPG = dist / gas\n",
        "  print (MPG)\n",
        "  return dist,gas\n",
        "km = int(input (\"How far did your car travel? (In kilometers?)\"))\n",
        "litres = int(input (\"How much gas did you use? (In liters)\"))\n",
        "MPG = efficiency(km,litres)"
      ],
      "execution_count": 1,
      "outputs": [
        {
          "output_type": "stream",
          "name": "stdout",
          "text": [
            "How far did your car travel? (In kilometers?)98\n",
            "How much gas did you use? (In liters)5\n",
            "19.6\n"
          ]
        }
      ]
    },
    {
      "cell_type": "code",
      "metadata": {
        "id": "KRNzrDiPQW1X"
      },
      "source": [
        ""
      ],
      "execution_count": null,
      "outputs": []
    }
  ]
}